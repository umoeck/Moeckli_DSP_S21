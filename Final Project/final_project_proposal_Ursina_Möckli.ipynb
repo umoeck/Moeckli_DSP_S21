{
 "cells": [
  {
   "cell_type": "markdown",
   "id": "advisory-printing",
   "metadata": {},
   "source": [
    "## Final Project Proposal"
   ]
  },
  {
   "cell_type": "markdown",
   "id": "swedish-initial",
   "metadata": {},
   "source": [
    "#### Name: Ursina Möckli"
   ]
  },
  {
   "cell_type": "markdown",
   "id": "occupied-marshall",
   "metadata": {},
   "source": [
    "#### Brief description of the dataset:\n",
    "\n",
    "The dataset is called 'World happiness report', it contains happiness scores and ranking from about 150 contries. Furthermore it contains variables that estimate the contribution of different factors to happiness (economic production, social support, life expectancy, freedom, absence of corruption, and generosity). The original data is which was used for the dataset is from Gallup World Poll. In the dataset the countries are compared to a hypothetical country, which represents the world's lowest national averages for each of the variables. The first dataset I found, contains data from 2015 - 2019, later on I found the same data for 2020 and 2021. \n",
    "I chose this dataset because I could get a good overview on the data, but still I think it is complex enough for the final project. Further on, I think i'm interessted in the content and the related output."
   ]
  },
  {
   "cell_type": "markdown",
   "id": "aggregate-parameter",
   "metadata": {},
   "source": [
    "#### Dataset questions:\n",
    "-\tWhere did you obtain the dataset from?\n",
    "\n",
    "> I found the dataset in kaggle (https://www.kaggle.com/unsdsn/world-happiness; https://worldhappiness.report/archive/).\n",
    "\n",
    "\n",
    "-\tHow many observations are there?\n",
    "\n",
    ">  There are 7 datasets for each year (2015 - 2021) Each dataset contains between 149 and 158 observations (countries).\n",
    "\n",
    "-\tHow many variables are there?\n",
    "\n",
    "> There are between 9 and 20 variables. All the data sets contain: Country name, Region, Happiness Rank, Happiness Score, GDP per Capita, Family/ Social Support, Health/ Life Expectancy, Freedom, Trust in Government/ Perception of corruption, Generosity. Some of the datasets contain also additional varibales (standard error, whiskers).\n",
    "\n",
    "-\tAre there multiple observations for the same units (e.g. multiple measurements of RTs per participant? Multiple evaluations per employee? etc)\n",
    "\n",
    "> Yes, there are multiple observation per country, as the same variables were measured from 2015 - 2021. There are 7 observations per country (one for each year)."
   ]
  },
  {
   "cell_type": "markdown",
   "id": "entire-shopper",
   "metadata": {},
   "source": [
    "#### Project goals:\n",
    "\n",
    "> Briefly describe what questions would you like to address with this project. What are your dependent and independent variables?\n",
    "\n",
    "I would like to see how the overall happiness changed over the last years. Furthermore, I would like to see if there are differences between regions in this world concerning happiness. Aswell I want to find out which of the factors has the strongest impact on happiness and whether there are differences between the countries/regions and the years.\n",
    "The dependent variables are happiness score and happiness rank whereas the independent variables are the factors which contribute to happiness (economic production, social support, life expectancy, freedom, absence of corruption, and generosity), the country/region and the year."
   ]
  },
  {
   "cell_type": "markdown",
   "id": "unable-relationship",
   "metadata": {},
   "source": [
    "#### Project methods:\n",
    "> Briefly describe what methods you plan to use to answer the project goals. These have to be based on the syllabus for the remaining of the course and/or the main textbook we are using. This is not a final commitment and you can change your plan as you progress, but describe here your current ideas and plans (briefly!)\n",
    "\n",
    "\n",
    "First of all I want to transform the data into a tidy format. Then I want to clean and structure the data and exclude variables that are not necessary and add variables that are missing in some of the datasets. In a next step I would like to visualize the data, get an overview and explore details. \n",
    "To answer the questions I will probably use a linear model/multiple linear model depending on the data and the output of the visualisazion. For the question concerning differences between regions I will probably use a mixed linear model.\n",
    "Perhaps in further lectures, I will get additional ideas how to analyze the data.\n",
    "\n"
   ]
  }
 ],
 "metadata": {
  "kernelspec": {
   "display_name": "R",
   "language": "R",
   "name": "ir"
  },
  "language_info": {
   "codemirror_mode": "r",
   "file_extension": ".r",
   "mimetype": "text/x-r-source",
   "name": "R",
   "pygments_lexer": "r",
   "version": "3.6.1"
  }
 },
 "nbformat": 4,
 "nbformat_minor": 5
}
